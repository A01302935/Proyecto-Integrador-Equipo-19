{
 "cells": [
  {
   "cell_type": "markdown",
   "id": "6c7c6e87",
   "metadata": {},
   "source": [
    "# ITESM\n",
    "# Maestria en Inteligencia Artificial Aplicada (MNA)\n",
    "# Proyecto Integrador (Grupo 10)\n",
    "# Avance 1. Análisis exploratorio de datos Equipo 19\n",
    "## Alumnos:\n",
    "# [A01302935] David Mireles Samaniego\n",
    "# [A00618978] Angel Rodríguez Cardenas       "
   ]
  },
  {
   "cell_type": "markdown",
   "id": "5ab7aad3",
   "metadata": {},
   "source": [
    "#::::::::::::::::::::::::::::::::::::::::::::::::::::::::::::::::::::::::::::::::::::::::::::::::"
   ]
  },
  {
   "cell_type": "markdown",
   "id": "40601d3a",
   "metadata": {},
   "source": [
    "# Primeramente instalar la biblioteca cv2 en la terminal con el comando: pip install opencv-python \n",
    "# Despues instalar la biblioteca imutils en la terminal con el comando: pip install imutils\n",
    "# Despues instalar la biblioteca Pillow en la terminal con el comando: pip install Pillow\n",
    "# Despues instalar la biblioteca Pandas en la terminal con el comando: pip install pandas\n",
    "# Despues instalar la biblioteca atplotlib en la terminal con el comando:pip install matplotlib\n",
    "# Despues instalar la biblioteca scipy en la terminal con el comando: pip install scipy\n",
    "# pip install -U scikit-learn\n",
    "# pip install seaborn"
   ]
  },
  {
   "cell_type": "markdown",
   "id": "91b20be2",
   "metadata": {},
   "source": [
    "# Muy importante importar la libreria 'haarcascade_frontalface_default.xml'"
   ]
  },
  {
   "cell_type": "code",
   "execution_count": null,
   "id": "32dda5f3",
   "metadata": {},
   "outputs": [],
   "source": [
    "import cv2\n",
    "import os\n",
    "import imutils"
   ]
  },
  {
   "cell_type": "code",
   "execution_count": null,
   "id": "48e350f4",
   "metadata": {},
   "outputs": [],
   "source": [
    "personName = 'David'\n",
    "dataPath = 'C:/Users/polvo/VISUALSTUDIO_ITESM/VERSION FACIL/Data'\n",
    "personPath = dataPath + '/' + personName"
   ]
  },
  {
   "cell_type": "code",
   "execution_count": null,
   "id": "970131f4",
   "metadata": {
    "lines_to_next_cell": 2
   },
   "outputs": [],
   "source": [
    "if not os.path.exists(personPath):\n",
    "    print('Carpeta creada: ',personPath)\n",
    "    os.makedirs(personPath)"
   ]
  },
  {
   "cell_type": "code",
   "execution_count": null,
   "id": "529ab5d3",
   "metadata": {},
   "outputs": [],
   "source": [
    "cap = cv2.VideoCapture('David.mp4')\n",
    "faceClassif = cv2.CascadeClassifier(cv2.data.haarcascades+'haarcascade_frontalface_default.xml')\n",
    "count = 0"
   ]
  },
  {
   "cell_type": "code",
   "execution_count": null,
   "id": "8adb974b",
   "metadata": {},
   "outputs": [],
   "source": [
    "while True:    \n",
    "    ret, frame = cap.read()\n",
    "    if ret == False: break\n",
    "    frame =  imutils.resize(frame, width=640)\n",
    "    gray = cv2.cvtColor(frame, cv2.COLOR_BGR2GRAY)\n",
    "    auxFrame = frame.copy()\n",
    "\n",
    "    faces = faceClassif.detectMultiScale(gray,1.3,5)\n",
    "\n",
    "    for (x,y,w,h) in faces:\n",
    "        cv2.rectangle(frame, (x,y),(x+w,y+h),(0,255,0),2)\n",
    "        rostro = auxFrame[y:y+h,x:x+w]\n",
    "        rostro = cv2.resize(rostro,(150,150),interpolation=cv2.INTER_CUBIC)\n",
    "        cv2.imwrite(personPath + '/rotro_{}.jpg'.format(count),rostro)\n",
    "        count = count + 1\n",
    "    cv2.imshow('frame',frame)\n",
    "\n",
    "    k =  cv2.waitKey(1)\n",
    "    if k == 27 or count >= 300:\n",
    "        break"
   ]
  },
  {
   "cell_type": "code",
   "execution_count": null,
   "id": "3fa29e8c",
   "metadata": {
    "lines_to_next_cell": 2
   },
   "outputs": [],
   "source": [
    "cap.release()\n",
    "cv2.destroyAllWindows()"
   ]
  },
  {
   "cell_type": "markdown",
   "id": "625c791c",
   "metadata": {},
   "source": [
    ":::::::::::::::::::::::::::::::::::::::::::::::::::::::::::::::::::::::::::::::::::::::::::::::::::::::::::::::::::::::::::::::::::::::::::::::::::::::::\n",
    "Las siguientes son algunas de las preguntas comunes que podrán abordar a través del EDA:"
   ]
  },
  {
   "cell_type": "markdown",
   "id": "108bd4c6",
   "metadata": {},
   "source": [
    "_________________________________________________________________________________________________________________________________________________________\n",
    "¿Hay valores faltantes en el conjunto de datos? ¿Se pueden identificar patrones de ausencia? "
   ]
  },
  {
   "cell_type": "code",
   "execution_count": null,
   "id": "46f2d4f3",
   "metadata": {
    "lines_to_next_cell": 1
   },
   "outputs": [],
   "source": [
    "import os\n",
    "from PIL import Image"
   ]
  },
  {
   "cell_type": "code",
   "execution_count": null,
   "id": "82d0bcc4",
   "metadata": {
    "lines_to_next_cell": 1
   },
   "outputs": [],
   "source": [
    "def check_missing_or_invalid_images(folder_path):\n",
    "    \"\"\"\n",
    "    Verifica imágenes faltantes, corruptas o inválidas en una carpeta.\n",
    "\n",
    "    Args:\n",
    "        folder_path (str): Ruta a la carpeta con imágenes.\n",
    "\n",
    "    Returns:\n",
    "        dict: Información sobre imágenes faltantes o inválidas.\n",
    "    \"\"\"\n",
    "    missing_files = []\n",
    "    corrupt_files = []\n",
    "    invalid_images = []\n",
    "\n",
    "    # Listar archivos en la carpeta\n",
    "    all_files = os.listdir(folder_path)\n",
    "    image_files = [f for f in all_files if f.lower().endswith((\".jpg\", \".jpeg\", \".png\", \".bmp\"))]\n",
    "\n",
    "    for file_name in image_files:\n",
    "        file_path = os.path.join(folder_path, file_name)\n",
    "        try:\n",
    "            with Image.open(file_path) as img:\n",
    "                # Verificar dimensiones y píxeles\n",
    "                width, height = img.size\n",
    "\n",
    "                if width == 0 or height == 0:\n",
    "                    invalid_images.append(file_name)\n",
    "\n",
    "                # Opcional: verificar si la imagen tiene píxeles uniformes\n",
    "                if img.getextrema() == ((0, 0),):  # Ejemplo para imágenes completamente negras\n",
    "                    invalid_images.append(file_name)\n",
    "\n",
    "        except Exception as e:\n",
    "            corrupt_files.append((file_name, str(e)))\n",
    "\n",
    "    return {\n",
    "        \"total_files\": len(all_files),\n",
    "        \"total_images\": len(image_files),\n",
    "        \"missing_files\": missing_files,\n",
    "        \"corrupt_files\": corrupt_files,\n",
    "        \"invalid_images\": invalid_images,\n",
    "    }"
   ]
  },
  {
   "cell_type": "code",
   "execution_count": null,
   "id": "17ff2132",
   "metadata": {},
   "outputs": [],
   "source": [
    "# Ejemplo de uso\n",
    "if __name__ == \"__main__\":\n",
    "    folder_path = \"C:/Users/polvo/VISUALSTUDIO_ITESM/VERSION FACIL/Data/David\"  # Cambia esto por la ruta a tu conjunto de imágenes\n",
    "    report = check_missing_or_invalid_images(folder_path)\n",
    "\n",
    "    print(\"\\nReporte de valores faltantes o inválidos:\")\n",
    "    for key, value in report.items():\n",
    "        print(f\"{key}: {value}\")\n",
    "\n",
    "    if report[\"corrupt_files\"]:\n",
    "        print(\"\\nImágenes corruptas:\")\n",
    "        for file, error in report[\"corrupt_files\"]:\n",
    "            print(f\"{file}: {error}\")\n",
    "\n",
    "    if report[\"invalid_images\"]:\n",
    "        print(\"\\nImágenes inválidas:\")\n",
    "        for file in report[\"invalid_images\"]:\n",
    "            print(file)"
   ]
  },
  {
   "cell_type": "markdown",
   "id": "b3abbca9",
   "metadata": {},
   "source": [
    "En el análisis de imágenes por computadora, los valores faltantes pueden aparecer de diversas formas y afectan la calidad del análisis.\n",
    "Algunos ejemplos errores y sus formas de identificar patrones de ausencia, son:"
   ]
  },
  {
   "cell_type": "markdown",
   "id": "ae1e7522",
   "metadata": {},
   "source": [
    "CAUSAS COMUNES DE LOS VALORES FALTANTES EN IMAGENES"
   ]
  },
  {
   "cell_type": "markdown",
   "id": "5b7d9c18",
   "metadata": {},
   "source": [
    "1.- Pixeles ausentes o dañados:\n",
    "Algunas imágenes pueden tener regiones oscuras (valores constantes como 0 o NaN) debido a defectos en los sensores o compresión excesiva."
   ]
  },
  {
   "cell_type": "markdown",
   "id": "e872b0ca",
   "metadata": {},
   "source": [
    "2.- Recortes o modificaciones:\n",
    "Partes de la imagen pueden estar recortadas o intencionalmente omitidas por preprocesamiento."
   ]
  },
  {
   "cell_type": "markdown",
   "id": "30db37c1",
   "metadata": {},
   "source": [
    "3.- Canales incompletos:\n",
    "Falta de información en ciertos canales de color (por ejemplo, RGB incompleto)."
   ]
  },
  {
   "cell_type": "markdown",
   "id": "e3fdc5ef",
   "metadata": {},
   "source": [
    "4.- Errores en el etiquetado:\n",
    "En conjuntos de datos etiquetados, las etiquetas pueden estar ausentes o ser incorrectas."
   ]
  },
  {
   "cell_type": "markdown",
   "id": "5e915f67",
   "metadata": {},
   "source": [
    "5.- Bloqueos u Colusiones:\n",
    "Partes del objeto de interés pueden estar ocultas en las imágenes, dificultando la segmentación o clasificación."
   ]
  },
  {
   "cell_type": "markdown",
   "id": "76b88345",
   "metadata": {},
   "source": [
    "EN LOS DATOS CON LOS QUE SE HA ESTADO TRABAJANDO NO SE HA ENCONTRADO NINGUNO DE ESTOS TIPOS DE ERRORES"
   ]
  },
  {
   "cell_type": "markdown",
   "id": "437e5c35",
   "metadata": {},
   "source": [
    "_________________________________________________________________________________________________________________________________________________________\n",
    "¿Cuáles son las estadísticas resumidas del conjunto de datos?"
   ]
  },
  {
   "cell_type": "code",
   "execution_count": null,
   "id": "3c9f3990",
   "metadata": {
    "lines_to_next_cell": 1
   },
   "outputs": [],
   "source": [
    "## Primeramente instalar la biblioteca pillow\n",
    "## pip install Pillow\n",
    "import os\n",
    "from PIL import Image, ImageStat\n",
    "import numpy as np"
   ]
  },
  {
   "cell_type": "code",
   "execution_count": null,
   "id": "8de8ce30",
   "metadata": {
    "lines_to_next_cell": 1
   },
   "outputs": [],
   "source": [
    "def get_image_statistics(image_path):\n",
    "    \"\"\"\n",
    "    Calcula estadísticas básicas para una imagen dada.\n",
    "\n",
    "    Args:\n",
    "        image_path (str): Ruta de la imagen.\n",
    "\n",
    "    Returns:\n",
    "        dict: Estadísticas incluyendo tamaño, brillo promedio y contraste.\n",
    "    \"\"\"\n",
    "    try:\n",
    "        with Image.open(image_path) as img:\n",
    "            # Convertir la imagen a escala de grises para analizar brillo y contraste\n",
    "            grayscale_img = img.convert(\"L\")\n",
    "            \n",
    "            # Obtener tamaño (resolución)\n",
    "            width, height = img.size\n",
    "\n",
    "            # Estadísticas básicas\n",
    "            stat = ImageStat.Stat(grayscale_img)\n",
    "            brightness = stat.mean[0]  # Promedio de brillo\n",
    "            contrast = stat.stddev[0]  # Desviación estándar como medida de contraste\n",
    "\n",
    "            return {\n",
    "                \"file_name\": os.path.basename(image_path),\n",
    "                \"width\": width,\n",
    "                \"height\": height,\n",
    "                \"brightness\": brightness,\n",
    "                \"contrast\": contrast,\n",
    "            }\n",
    "    except Exception as e:\n",
    "        print(f\"Error procesando {image_path}: {e}\")\n",
    "        return None"
   ]
  },
  {
   "cell_type": "code",
   "execution_count": null,
   "id": "22b58686",
   "metadata": {
    "lines_to_next_cell": 1
   },
   "outputs": [],
   "source": [
    "def analyze_image_dataset(folder_path):\n",
    "    \"\"\"\n",
    "    Analiza un conjunto de imágenes en una carpeta para calcular estadísticas resumidas.\n",
    "\n",
    "    Args:\n",
    "        folder_path (str): Ruta a la carpeta con imágenes.\n",
    "\n",
    "    Returns:\n",
    "        dict: Estadísticas generales del conjunto de imágenes.\n",
    "    \"\"\"\n",
    "    all_stats = []\n",
    "\n",
    "    # Iterar sobre las imágenes en la carpeta\n",
    "    for file_name in os.listdir(folder_path):\n",
    "        file_path = os.path.join(folder_path, file_name)\n",
    "        if os.path.isfile(file_path) and file_name.lower().endswith((\".jpg\", \".jpeg\", \".png\", \".bmp\")):\n",
    "            stats = get_image_statistics(file_path)\n",
    "            if stats:\n",
    "                all_stats.append(stats)\n",
    "\n",
    "    # Calcular estadísticas resumidas\n",
    "    if all_stats:\n",
    "        widths = [s[\"width\"] for s in all_stats]\n",
    "        heights = [s[\"height\"] for s in all_stats]\n",
    "        brightnesses = [s[\"brightness\"] for s in all_stats]\n",
    "        contrasts = [s[\"contrast\"] for s in all_stats]\n",
    "\n",
    "        summary = {\n",
    "            \"total_images\": len(all_stats),\n",
    "            \"average_width\": np.mean(widths),\n",
    "            \"average_height\": np.mean(heights),\n",
    "            \"average_brightness\": np.mean(brightnesses),\n",
    "            \"average_contrast\": np.mean(contrasts),\n",
    "            \"min_brightness\": np.min(brightnesses),\n",
    "            \"max_brightness\": np.max(brightnesses),\n",
    "            \"min_contrast\": np.min(contrasts),\n",
    "            \"max_contrast\": np.max(contrasts),\n",
    "        }\n",
    "\n",
    "        return summary, all_stats\n",
    "    else:\n",
    "        print(\"No se encontraron imágenes válidas en la carpeta.\")\n",
    "        return None, None"
   ]
  },
  {
   "cell_type": "code",
   "execution_count": null,
   "id": "17af361c",
   "metadata": {},
   "outputs": [],
   "source": [
    "# Ejemplo de uso\n",
    "if __name__ == \"__main__\":\n",
    "    folder_path = \"C:/Users/polvo/VISUALSTUDIO_ITESM/VERSION FACIL/Data/David\"  # Cambia esto por la ruta a tu conjunto de imágenes\n",
    "    summary, all_stats = analyze_image_dataset(folder_path)\n",
    "\n",
    "    if summary:\n",
    "        print(\"\\nEstadísticas resumidas del conjunto de imágenes:\")\n",
    "        for key, value in summary.items():\n",
    "            print(f\"{key}: {value}\")\n",
    "\n",
    "        print(\"\\nDetalles por imagen:\")\n",
    "        for stats in all_stats:\n",
    "            print(stats)"
   ]
  },
  {
   "cell_type": "markdown",
   "id": "1fecbd3a",
   "metadata": {},
   "source": [
    "Estadísticas comunes de imágenes\n",
    "Dimensiones: \n",
    "Del video 1280 X 720  pixeles y de las imagenes 150 X 150 pixeles"
   ]
  },
  {
   "cell_type": "markdown",
   "id": "ab51d373",
   "metadata": {},
   "source": [
    "Promedio, mínimo, máximo y rango de alturas y anchuras de las imágenes en píxeles.\n",
    "imagenes 150 X 150 pixeles en todos los datos"
   ]
  },
  {
   "cell_type": "markdown",
   "id": "a389c167",
   "metadata": {},
   "source": [
    "Proporción de aspectos (ancho/alto). Ancho 99 ppp y Alto 99 ppp\n",
    "Distribución de intensidad: Proporcion 1:1 a 150 X 150 pixeles, profundidad de bits 24"
   ]
  },
  {
   "cell_type": "markdown",
   "id": "59c35dde",
   "metadata": {},
   "source": [
    "Promedio y desviación estándar de los valores de los píxeles por canal (RGB, escala de grises, etc.).\n",
    "Histogramas de intensidad para cada canal.\n",
    "Tamaño de archivo: Alrrededor de 8.2KB por imagen, en formato .jpg"
   ]
  },
  {
   "cell_type": "markdown",
   "id": "ae5266c4",
   "metadata": {},
   "source": [
    "Promedio, mínimo y máximo de los tamaños de los archivos en kilobytes o megabytes.\n",
    "Número de canales:Alrrededor de 8KB por imagen"
   ]
  },
  {
   "cell_type": "markdown",
   "id": "e1b8a3e9",
   "metadata": {},
   "source": [
    "Distribución de imágenes con diferentes configuraciones de canales (por ejemplo, RGB, RGBA, escala de grises).\n",
    "Rango dinámico: RGB"
   ]
  },
  {
   "cell_type": "markdown",
   "id": "1d5b30ad",
   "metadata": {
    "lines_to_next_cell": 2
   },
   "source": [
    "Rango de valores de píxeles por canal (e.g., 0-255 para imágenes de 8 bits).  Ancho 99 ppp y Alto 99 ppp"
   ]
  },
  {
   "cell_type": "markdown",
   "id": "9220b03e",
   "metadata": {
    "lines_to_next_cell": 2
   },
   "source": [
    "_________________________________________________________________________________________________________________________________________________________\n",
    "¿Hay valores atípicos en el conjunto de datos?"
   ]
  },
  {
   "cell_type": "code",
   "execution_count": null,
   "id": "65e58b40",
   "metadata": {
    "lines_to_next_cell": 1
   },
   "outputs": [],
   "source": [
    "import numpy as np\n",
    "import cv2\n",
    "import os"
   ]
  },
  {
   "cell_type": "code",
   "execution_count": null,
   "id": "f6ef192b",
   "metadata": {
    "lines_to_next_cell": 1
   },
   "outputs": [],
   "source": [
    "# Función para cargar las imágenes de un directorio\n",
    "def cargar_imagenes(directorio):\n",
    "    imagenes = []\n",
    "    for archivo in os.listdir('C:/Users/polvo/VISUALSTUDIO_ITESM/VERSION FACIL/Data/David'):\n",
    "        if archivo.endswith('.jpg') or archivo.endswith('.png'):\n",
    "            img = cv2.imread(os.path.join(directorio, archivo), cv2.IMREAD_GRAYSCALE)\n",
    "            if img is not None:\n",
    "                imagenes.append(img)\n",
    "    return imagenes"
   ]
  },
  {
   "cell_type": "code",
   "execution_count": null,
   "id": "0b5ea0b9",
   "metadata": {
    "lines_to_next_cell": 1
   },
   "outputs": [],
   "source": [
    "# Función para detectar valores atípicos en las imágenes\n",
    "def detectar_valores_atipicos(imagenes, umbral=3):\n",
    "    valores_pixel = []\n",
    "    \n",
    "    # Extraer los valores de los píxeles de todas las imágenes\n",
    "    for img in imagenes:\n",
    "        valores_pixel.extend(img.flatten())\n",
    "    \n",
    "    valores_pixel = np.array(valores_pixel)\n",
    "    \n",
    "    # Calcular la media y la desviación estándar\n",
    "    media = np.mean(valores_pixel)\n",
    "    desviacion_estandar = np.std(valores_pixel)\n",
    "    \n",
    "    # Detectar los valores atípicos basados en el umbral de desviación estándar\n",
    "    atipicos = valores_pixel[np.abs(valores_pixel - media) > umbral * desviacion_estandar]\n",
    "    \n",
    "    return atipicos"
   ]
  },
  {
   "cell_type": "code",
   "execution_count": null,
   "id": "fd0d316c",
   "metadata": {},
   "outputs": [],
   "source": [
    "# Directorio donde se encuentran las imágenes\n",
    "directorio_imagenes = 'ruta/a/las/imagenes'"
   ]
  },
  {
   "cell_type": "code",
   "execution_count": null,
   "id": "7182369c",
   "metadata": {},
   "outputs": [],
   "source": [
    "# Cargar las imágenes\n",
    "imagenes = cargar_imagenes(directorio_imagenes)"
   ]
  },
  {
   "cell_type": "code",
   "execution_count": null,
   "id": "7acde275",
   "metadata": {},
   "outputs": [],
   "source": [
    "# Detectar valores atípicos\n",
    "valores_atipicos = detectar_valores_atipicos(imagenes)"
   ]
  },
  {
   "cell_type": "code",
   "execution_count": null,
   "id": "732e8dd0",
   "metadata": {},
   "outputs": [],
   "source": [
    "# Imprimir el número de valores atípicos\n",
    "print(f\"Se encontraron {len(valores_atipicos)} valores atípicos.\")"
   ]
  },
  {
   "cell_type": "code",
   "execution_count": null,
   "id": "d259940f",
   "metadata": {},
   "outputs": [],
   "source": []
  },
  {
   "cell_type": "markdown",
   "id": "abe22ddf",
   "metadata": {},
   "source": [
    "_________________________________________________________________________________________________________________________________________________________\n",
    "¿Cuál es la cardinalidad de las variables categóricas?"
   ]
  },
  {
   "cell_type": "code",
   "execution_count": null,
   "id": "fffacfb4",
   "metadata": {},
   "outputs": [],
   "source": [
    "# Aun no tenemos los datos en un modelo de redes neuronales para poder etiquetarlo pero algo basico que podemos hacer es:\n",
    "import pandas as pd"
   ]
  },
  {
   "cell_type": "code",
   "execution_count": null,
   "id": "33cdf2e5",
   "metadata": {},
   "outputs": [],
   "source": [
    "# Simulación de un conjunto de datos con etiquetas de imágenes\n",
    "# Imagina que tenemos un DataFrame con los nombres de las imágenes y sus etiquetas\n",
    "data = {\n",
    "    'imagen': ['rotro_0.jpg', 'rotro_1.jpg', 'rotro_2.jpg', 'rotro_3.jpg', 'rotro_4.jpg'],\n",
    "    'etiqueta': ['feliz', 'sorprendido', 'angustiado', 'ansioso', 'confusion']\n",
    "}"
   ]
  },
  {
   "cell_type": "code",
   "execution_count": null,
   "id": "5549b743",
   "metadata": {},
   "outputs": [],
   "source": [
    "df = pd.DataFrame(data)"
   ]
  },
  {
   "cell_type": "code",
   "execution_count": null,
   "id": "ecaf9c09",
   "metadata": {},
   "outputs": [],
   "source": [
    "# Calcular la cardinalidad de la variable categórica 'etiqueta'\n",
    "cardinalidad_etiquetas = df['etiqueta'].nunique()"
   ]
  },
  {
   "cell_type": "code",
   "execution_count": null,
   "id": "c2e51de8",
   "metadata": {},
   "outputs": [],
   "source": [
    "# Imprimir la cardinalidad\n",
    "print(f\"La cardinalidad de las etiquetas es: {cardinalidad_etiquetas}\")"
   ]
  },
  {
   "cell_type": "markdown",
   "id": "0ff80148",
   "metadata": {},
   "source": [
    "La cardinalidad de las variables categóricas en el análisis de rostros en visión por computadora depende de las tareas específicas y los tipos de etiquetas \n",
    "utilizadas. A continuación, se describen las variables categóricas comunes y su cardinalidad esperada:\n",
    "aun no tenemos un modelo de redes nuronales que nos pueda dar esos valores"
   ]
  },
  {
   "cell_type": "markdown",
   "id": "dc1339e7",
   "metadata": {},
   "source": [
    "VARIABLES CATEGÓRICAS Y CARDINILIDAD TÍPICA.\n",
    "1.- Identidad de las personas (ID):"
   ]
  },
  {
   "cell_type": "markdown",
   "id": "7a745745",
   "metadata": {
    "lines_to_next_cell": 2
   },
   "source": [
    "  1.-Descripción: Representa a individuos únicos en el conjunto de datos.\n",
    "  *Cardinalidad: Alta, dependiendo del número de personas en el conjunto (puede variar de decenas a miles).\n",
    "      *Ejemplo:\n",
    "          *LFW (Labelled Faces in the Wild): ~5,700 identidades.\n",
    "          *VGGFace2: ~9,000 identidades.\n",
    "  2.-Género:\n",
    "  *Descripción: Masculino, femenino, u otras categorías de género.\n",
    "  *Cardinalidad: Generalmente baja (2-3 categorías).\n",
    "      *Ejemplo: Masculino, Femenino, No especificado.\n",
    "  3.-Edad:\n",
    "  *Descripción: Rangos de edad o categorías específicas (niño, adolescente, adulto, anciano).\n",
    "  *Cardinalidad: Puede ser baja o moderada, dependiendo de cómo se agrupe la edad.\n",
    "      *Ejemplo:\n",
    "          *Rangos: [0-10], [11-20], ..., [60+].\n",
    "          *Clases exactas (edad específica): 0-100.\n",
    "  4.-Expresiones faciales:\n",
    "  *Descripción: Categorías de emociones detectadas en el rostro.\n",
    "  *Cardinalidad: Generalmente baja, con 6-8 clases estándar.\n",
    "      Ejemplo: Felicidad, Tristeza, Sorpresa, Enojo, Miedo, Desagrado, Neutral.\n",
    "  5.- Accesorios:\n",
    "  *Descripción: Presencia de objetos como gafas, sombreros, máscaras, etc.\n",
    "  *Cardinalidad: Baja, dependiendo del tipo de accesorio.\n",
    "      *Ejemplo: Gafas (sí/no), Sombrero (sí/no).\n",
    "          *Orientación de la cabeza (Pose):\n",
    "  6.- Descripción: Dirección en la que está orientado el rostro.\n",
    "  *Cardinalidad: Baja, con clases como Frontal, Izquierda, Derecha, Arriba, Abajo.\n",
    "      *Ejemplo: 5-10 categorías para ángulos discretizados.\n",
    "          *Iluminación:\n",
    "  7.-Descripción: Categorías basadas en las condiciones de iluminación (natural, artificial, etc.).\n",
    "  *Cardinalidad: Baja, con clases predefinidas.\n",
    "      *Ejemplo: Iluminación tenue, media, brillante.\n",
    "          *Casos con cardinalidad elevada\n",
    "          *En algunos casos, la cardinalidad puede ser muy alta:\n",
    "  8.-Identidades con miles de personas.\n",
    "  *Accesorios combinados: Presencia de múltiples combinaciones de accesorios (por ejemplo, gafas + sombrero).\n",
    "  *Para manejar estos casos, es común usar técnicas de reducción de dimensionalidad o agrupar categorías menos \n",
    "  *frecuentes en una sola clase (\"Otros\")."
   ]
  },
  {
   "cell_type": "markdown",
   "id": "e3a16908",
   "metadata": {},
   "source": [
    "_________________________________________________________________________________________________________________________________________________________\n",
    "¿Existen distribuciones sesgadas en el conjunto de datos? ¿Necesitamos aplicar alguna transformación no lineal?"
   ]
  },
  {
   "cell_type": "code",
   "execution_count": null,
   "id": "10af880f",
   "metadata": {
    "lines_to_next_cell": 1
   },
   "outputs": [],
   "source": [
    "import numpy as np\n",
    "import matplotlib.pyplot as plt\n",
    "from scipy.stats import boxcox\n",
    "import cv2\n",
    "import os"
   ]
  },
  {
   "cell_type": "code",
   "execution_count": null,
   "id": "85e5930c",
   "metadata": {
    "lines_to_next_cell": 1
   },
   "outputs": [],
   "source": [
    "# Función para cargar las imágenes de un directorio y convertirlas en escala de grises\n",
    "def cargar_imagenes(directorio):\n",
    "    imagenes = []\n",
    "    for archivo in os.listdir(directorio):\n",
    "        if archivo.endswith('.jpg') or archivo.endswith('.png'):\n",
    "            img = cv2.imread(os.path.join(directorio, archivo), cv2.IMREAD_GRAYSCALE)\n",
    "            if img is not None:\n",
    "                imagenes.append(img)\n",
    "    return imagenes"
   ]
  },
  {
   "cell_type": "code",
   "execution_count": null,
   "id": "fc81818e",
   "metadata": {
    "lines_to_next_cell": 1
   },
   "outputs": [],
   "source": [
    "# Función para extraer características de las imágenes (por ejemplo, media de los píxeles)\n",
    "def extraer_caracteristicas(imagenes):\n",
    "    características = []\n",
    "    for img in imagenes:\n",
    "        características.append(np.mean(img))  # Característica simple: media de los píxeles\n",
    "    return np.array(características)"
   ]
  },
  {
   "cell_type": "code",
   "execution_count": null,
   "id": "53e4f71f",
   "metadata": {
    "lines_to_next_cell": 1
   },
   "outputs": [],
   "source": [
    "# Visualización de la distribución y transformación\n",
    "def visualizar_transformacion(características):\n",
    "    # Distribución original\n",
    "    plt.subplot(1, 2, 1)\n",
    "    plt.hist(características, bins=20)\n",
    "    plt.title('Distribución Original')\n",
    "\n",
    "    # Transformación logarítmica\n",
    "    características_log = np.log1p(características)  # Usamos log1p para manejar ceros\n",
    "    plt.subplot(1, 2, 2)\n",
    "    plt.hist(características_log, bins=20)\n",
    "    plt.title('Distribución después de Transformación Logarítmica')\n",
    "\n",
    "    plt.show()"
   ]
  },
  {
   "cell_type": "code",
   "execution_count": null,
   "id": "a7540bb7",
   "metadata": {},
   "outputs": [],
   "source": [
    "# Directorio donde se encuentran las imágenes\n",
    "directorio_imagenes = 'C:/Users/polvo/VISUALSTUDIO_ITESM/VERSION FACIL/Data/David'"
   ]
  },
  {
   "cell_type": "code",
   "execution_count": null,
   "id": "d0196b80",
   "metadata": {},
   "outputs": [],
   "source": [
    "# Cargar las imágenes\n",
    "imagenes = cargar_imagenes(directorio_imagenes)"
   ]
  },
  {
   "cell_type": "code",
   "execution_count": null,
   "id": "b34bba45",
   "metadata": {},
   "outputs": [],
   "source": [
    "# Extraer características (en este caso, la media de los píxeles)\n",
    "características = extraer_caracteristicas(imagenes)"
   ]
  },
  {
   "cell_type": "code",
   "execution_count": null,
   "id": "54b8292b",
   "metadata": {},
   "outputs": [],
   "source": [
    "# Visualizar distribución original y transformada\n",
    "visualizar_transformacion(características)"
   ]
  },
  {
   "cell_type": "code",
   "execution_count": null,
   "id": "e45fe2e5",
   "metadata": {},
   "outputs": [],
   "source": [
    "# Aplicar transformación de Box-Cox si la distribución tiene valores positivos\n",
    "if np.all(características > 0):\n",
    "    características_boxcox, _ = boxcox(características)\n",
    "    plt.hist(características_boxcox, bins=20)\n",
    "    plt.title('Distribución después de Box-Cox')\n",
    "    plt.show()\n",
    "else:\n",
    "    print(\"No se puede aplicar Box-Cox a características con valores negativos o cero.\")"
   ]
  },
  {
   "cell_type": "markdown",
   "id": "d908d2be",
   "metadata": {},
   "source": [
    "En el análisis de rostros con visión por computadora, es común encontrar distribuciones sesgadas en el conjunto de datos, lo que puede afectar la eficacia del modelo y \n",
    "requerir transformaciones no lineales para mejorar la representación o el aprendizaje. Aquí te detallo los aspectos clave:"
   ]
  },
  {
   "cell_type": "markdown",
   "id": "a1bc4fc2",
   "metadata": {},
   "source": [
    "Distribuciones sesgadas típicas en análisis de rostros\n",
    "Distribución de clases (sesgo de clase):"
   ]
  },
  {
   "cell_type": "markdown",
   "id": "77115d7f",
   "metadata": {},
   "source": [
    "En tareas como clasificación de identidades o expresiones faciales, algunas clases suelen estar sobrerrepresentadas (por ejemplo, rostros de adultos jóvenes)\n",
    "mientras que otras tienen menos ejemplos (niños o ancianos).\n",
    "Impacto: Los modelos pueden inclinarse hacia las clases mayoritarias, ignorando las minoritarias.\n",
    "Distribución de edades:"
   ]
  },
  {
   "cell_type": "markdown",
   "id": "c8e72af7",
   "metadata": {},
   "source": [
    "Frecuentemente sesgada hacia adultos jóvenes, con menos ejemplos de niños y personas mayores.\n",
    "Impacto: Modelos de estimación de edad pueden ser inexactos para grupos menos representados.\n",
    "Distribución de poses:"
   ]
  },
  {
   "cell_type": "markdown",
   "id": "8e0b813e",
   "metadata": {},
   "source": [
    "Sesgo hacia poses frontales, ya que muchas imágenes de entrenamiento están tomadas en condiciones controladas.\n",
    "Impacto: El modelo podría tener dificultades para generalizar a poses laterales o inusuales.\n",
    "Distribución de iluminación:"
   ]
  },
  {
   "cell_type": "markdown",
   "id": "fd86e690",
   "metadata": {},
   "source": [
    "Sesgo hacia iluminación uniforme o brillante en imágenes capturadas en estudios, mientras que las condiciones reales pueden incluir sombras o poca luz.\n",
    "Impacto: Modelos podrían fallar en ambientes con iluminación desigual.\n",
    "Distribución de género y etnicidad:"
   ]
  },
  {
   "cell_type": "markdown",
   "id": "448a2362",
   "metadata": {},
   "source": [
    "Conjuntos de datos de rostros tienden a estar dominados por ciertos géneros o grupos étnicos (por ejemplo, hombres caucásicos).\n",
    "Impacto: Reducción en la equidad y precisión para otros grupos.\n",
    "Cuándo aplicar transformaciones no lineales\n",
    "Transformaciones no lineales pueden ser útiles en diferentes contextos del análisis de rostros:"
   ]
  },
  {
   "cell_type": "markdown",
   "id": "9b744dd2",
   "metadata": {},
   "source": [
    "Para reducir el sesgo en los datos de entrada:"
   ]
  },
  {
   "cell_type": "markdown",
   "id": "40c4747a",
   "metadata": {},
   "source": [
    "Normalización no lineal: Transformaciones como raíz cuadrada o logaritmo pueden ayudar a manejar distribuciones de intensidad o brillo muy sesgadas.\n",
    "Ejemplo: Aplicar: \n",
    "log(1+𝑥)\n",
    "log(1+x) para valores de intensidad de píxeles en imágenes de alto rango dinámico.\n",
    "Para mejorar la separación de características:"
   ]
  },
  {
   "cell_type": "markdown",
   "id": "486c6ef4",
   "metadata": {},
   "source": [
    "Mapeos no lineales en representaciones latentes: Usar arquitecturas profundas que transformen las imágenes originales en espacios latentes más útiles.\n",
    "Ejemplo: Redes neuronales convolucionales (CNNs) ya aplican transformaciones no lineales mediante funciones como ReLU o Swish.\n",
    "Para ajustar la distribución de clases:"
   ]
  },
  {
   "cell_type": "markdown",
   "id": "3c5f9e9d",
   "metadata": {},
   "source": [
    "Sobremuestreo/Sobreescritura: Aplicar técnicas como SMOTE o reponderar clases minoritarias en las pérdidas.\n",
    "Para manejar variaciones de escala:"
   ]
  },
  {
   "cell_type": "markdown",
   "id": "1667f4e8",
   "metadata": {},
   "source": [
    "Transformaciones gamma: A menudo utilizadas en la preprocesamiento de imágenes para normalizar la iluminación desigual.\n",
    "Ejemplo de aplicación práctica\n",
    "Técnicas de balance de clases:"
   ]
  },
  {
   "cell_type": "markdown",
   "id": "1d72598e",
   "metadata": {},
   "source": [
    "Aplicar ponderación en la función de pérdida para que las clases minoritarias tengan mayor importancia.\n",
    "Recolección de más datos o generación de datos sintéticos para equilibrar clases.\n",
    "Normalización en distribuciones altamente sesgadas:"
   ]
  },
  {
   "cell_type": "markdown",
   "id": "9caac0d1",
   "metadata": {},
   "source": [
    "Escalado no lineal en características como brillo, contraste o rango de edades.\n",
    "Augmentación de datos:"
   ]
  },
  {
   "cell_type": "markdown",
   "id": "3c56564f",
   "metadata": {},
   "source": [
    "Introducir variaciones de pose, iluminación y expresiones para reducir el sesgo en las distribuciones."
   ]
  },
  {
   "cell_type": "code",
   "execution_count": null,
   "id": "1f0528ca",
   "metadata": {},
   "outputs": [],
   "source": []
  },
  {
   "cell_type": "markdown",
   "id": "06c054f8",
   "metadata": {
    "lines_to_next_cell": 2
   },
   "source": [
    "_________________________________________________________________________________________________________________________________________________________\n",
    "¿Se identifican tendencias temporales? (En caso de que el conjunto incluya una dimensión de tiempo)."
   ]
  },
  {
   "cell_type": "markdown",
   "id": "22a280ab",
   "metadata": {
    "lines_to_next_cell": 2
   },
   "source": [
    "No aplica para la naturaleza del proyecto y los datos con los que se trabajara"
   ]
  },
  {
   "cell_type": "markdown",
   "id": "738ba016",
   "metadata": {},
   "source": [
    "_________________________________________________________________________________________________________________________________________________________\n",
    "¿Hay correlación entre las variables dependientes e independientes?"
   ]
  },
  {
   "cell_type": "code",
   "execution_count": null,
   "id": "4578c384",
   "metadata": {},
   "outputs": [],
   "source": [
    "#En nuestra base de datos falta aun que agregemos etiquetas, pero el script que proponemos seria de este tipo, pues aun no tenemos nuestro modelo entrenado\n",
    "import numpy as np\n",
    "import pandas as pd\n",
    "import seaborn as sns\n",
    "import matplotlib.pyplot as plt\n",
    "from scipy.stats import pearsonr"
   ]
  },
  {
   "cell_type": "markdown",
   "id": "65cf8683",
   "metadata": {},
   "source": [
    "Supón que tienes un DataFrame con características extraídas (por ejemplo, PCA o características de la cara) y etiquetas\n",
    "Ejemplo con características numéricas y etiquetas de clase"
   ]
  },
  {
   "cell_type": "code",
   "execution_count": null,
   "id": "70f24bda",
   "metadata": {},
   "outputs": [],
   "source": [
    "# Simulación de características (independientes) y etiquetas de clase (dependientes)\n",
    "np.random.seed(42)\n",
    "num_imagenes = 100"
   ]
  },
  {
   "cell_type": "code",
   "execution_count": null,
   "id": "052487d2",
   "metadata": {},
   "outputs": [],
   "source": [
    "# Características numéricas (por ejemplo, valores extraídos de las imágenes)\n",
    "caracteristicas = np.random.rand(num_imagenes, 5)  # 5 características extraídas de las imágenes"
   ]
  },
  {
   "cell_type": "code",
   "execution_count": null,
   "id": "b543a374",
   "metadata": {},
   "outputs": [],
   "source": [
    "# Etiquetas de clase (por ejemplo, identidades de las personas)\n",
    "etiquetas = np.random.choice(['persona_1', 'persona_2', 'persona_3'], size=num_imagenes)"
   ]
  },
  {
   "cell_type": "code",
   "execution_count": null,
   "id": "b8968321",
   "metadata": {},
   "outputs": [],
   "source": [
    "# Crear un DataFrame\n",
    "df = pd.DataFrame(caracteristicas, columns=[f'caracteristica_{i+1}' for i in range(5)])\n",
    "df['etiqueta'] = etiquetas"
   ]
  },
  {
   "cell_type": "code",
   "execution_count": null,
   "id": "ae68e3ce",
   "metadata": {},
   "outputs": [],
   "source": [
    "# 1. Correlación de Pearson entre características numéricas (variables independientes)\n",
    "corr_matrix = df.drop('etiqueta', axis=1).corr()  # Eliminar la columna de etiquetas\n",
    "sns.heatmap(corr_matrix, annot=True, cmap='coolwarm')\n",
    "plt.title(\"Matriz de Correlación de Pearson entre Características\")\n",
    "plt.show()"
   ]
  },
  {
   "cell_type": "markdown",
   "id": "fbe322e5",
   "metadata": {},
   "source": [
    "2. Correlación de Cramér's V entre las características y las etiquetas (variables categóricas)\n",
    "Para correlación entre variables categóricas, usaremos una función personalizada para Cramér's V"
   ]
  },
  {
   "cell_type": "code",
   "execution_count": null,
   "id": "2d93ffa9",
   "metadata": {
    "lines_to_next_cell": 1
   },
   "outputs": [],
   "source": [
    "import scipy.stats as stats"
   ]
  },
  {
   "cell_type": "code",
   "execution_count": null,
   "id": "3b44e3b6",
   "metadata": {
    "lines_to_next_cell": 1
   },
   "outputs": [],
   "source": [
    "def cramers_v(categoria1, categoria2):\n",
    "    contingency_table = pd.crosstab(categoria1, categoria2)\n",
    "    chi2, p, dof, expected = stats.chi2_contingency(contingency_table)\n",
    "    n = contingency_table.sum().sum()\n",
    "    phi2 = chi2 / n\n",
    "    r, k = contingency_table.shape\n",
    "    return np.sqrt(phi2 / min(k - 1, r - 1))"
   ]
  },
  {
   "cell_type": "code",
   "execution_count": null,
   "id": "b79ed661",
   "metadata": {},
   "outputs": [],
   "source": [
    "# Calcular la correlación de Cramér's V entre la variable de etiqueta y las características\n",
    "for column in df.drop('etiqueta', axis=1).columns:\n",
    "    correlation_cramers_v = cramers_v(df[column], df['etiqueta'])\n",
    "    print(f\"Correlación de Cramér's V entre {column} y 'etiqueta': {correlation_cramers_v:.4f}\")"
   ]
  },
  {
   "cell_type": "markdown",
   "id": "06dd872e",
   "metadata": {},
   "source": [
    "En el análisis de rostros con visión por computadora, es común investigar la correlación entre las variables dependientes (etiquetas o predicciones, como:\n",
    "edad, género, expresión facial, etc.) y las variables independientes (características extraídas de las imágenes). A continuación, exploramos este aspecto \n",
    "con detalle:"
   ]
  },
  {
   "cell_type": "markdown",
   "id": "380074b3",
   "metadata": {},
   "source": [
    "Correlación entre variables en análisis de rostros\n",
    "1.- Variables dependientes comunes:"
   ]
  },
  {
   "cell_type": "markdown",
   "id": "dd8b5b26",
   "metadata": {},
   "source": [
    "      Edad.\n",
    "      Género.\n",
    "      Expresión facial.\n",
    "      Identidad de personas.\n",
    "      Pose (orientación de la cabeza).\n",
    "      Variables independientes comunes:"
   ]
  },
  {
   "cell_type": "markdown",
   "id": "90053e6f",
   "metadata": {},
   "source": [
    "2.- Características de los píxeles (valores RGB, texturas).\n",
    "      Características de alto nivel extraídas por modelos (embeddings o representaciones latentes).\n",
    "      Factores externos (iluminación, fondo, accesorios)."
   ]
  },
  {
   "cell_type": "markdown",
   "id": "b09c515c",
   "metadata": {},
   "source": [
    "      Ejemplos de correlación esperada\n",
    "      1.- Edad y textura facial:"
   ]
  },
  {
   "cell_type": "markdown",
   "id": "d7152d54",
   "metadata": {},
   "source": [
    "          Correlación:\n",
    "          Las arrugas y cambios en la textura de la piel son fuertes predictores de la edad.\n",
    "      Análisis:\n",
    "          La textura de bajo nivel (frecuencias espaciales altas) tiene correlación positiva con el envejecimiento.\n",
    "          Representaciones profundas (como embeddings de redes neuronales) también capturan esta correlación.\n",
    "      2.-Género y forma facial:"
   ]
  },
  {
   "cell_type": "markdown",
   "id": "bc14d0a2",
   "metadata": {},
   "source": [
    "      Correlación:\n",
    "          Características como la forma del rostro, la mandíbula o la distribución del cabello tienden a correlacionarse con el género en ciertos conjuntos de datos.\n",
    "          Limitación:\n",
    "          Estas correlaciones pueden estar sesgadas si el conjunto de datos no es diverso (e.g., sesgo étnico o cultural).\n",
    "      3.-Expresión facial y regiones específicas:"
   ]
  },
  {
   "cell_type": "markdown",
   "id": "27513622",
   "metadata": {},
   "source": [
    "          Correlación:\n",
    "          Los movimientos de los músculos faciales (sonrisa, ceño fruncido, etc.) afectan ciertas áreas del rostro, como los ojos y la boca.\n",
    "          Análisis:\n",
    "               Redes convolucionales suelen asignar mayor importancia a estas regiones al clasificar expresiones.\n",
    "      4.-Pose y características de fondo:"
   ]
  },
  {
   "cell_type": "markdown",
   "id": "c7db2b9f",
   "metadata": {},
   "source": [
    "          Correlación:\n",
    "          Las poses extremas pueden influir en la percepción de la identidad y las características faciales.\n",
    "      5.-Accesorios y variables dependientes:"
   ]
  },
  {
   "cell_type": "markdown",
   "id": "0aaa5a7b",
   "metadata": {},
   "source": [
    "          Correlación negativa:\n",
    "          Gafas o máscaras pueden reducir la precisión en la predicción de género, expresión o edad."
   ]
  },
  {
   "cell_type": "markdown",
   "id": "5859a98d",
   "metadata": {},
   "source": [
    "Métodos para medir correlaciones\n",
    "Análisis estadístico:"
   ]
  },
  {
   "cell_type": "markdown",
   "id": "f098158d",
   "metadata": {},
   "source": [
    "Coeficientes de correlación:\n",
    "Usar métricas como Pearson, Spearman o Kendall para medir la correlación entre variables continuas (e.g., edad y características latentes).\n",
    "Matrices de correlación:\n",
    "Evaluar la relación entre múltiples variables.\n",
    "Análisis basado en modelos:"
   ]
  },
  {
   "cell_type": "markdown",
   "id": "2bcedc87",
   "metadata": {},
   "source": [
    "Importancia de características:\n",
    "Usar modelos interpretables (e.g., árboles de decisión) para identificar qué variables independientes influyen más en las predicciones.\n",
    "Mapas de calor activados por gradiente (Grad-CAM):\n",
    "Visualizar regiones de la imagen relevantes para la predicción.\n",
    "Análisis en el espacio latente:"
   ]
  },
  {
   "cell_type": "markdown",
   "id": "23293e38",
   "metadata": {},
   "source": [
    "Evaluar cómo se agrupan o separan las clases (género, expresión, etc.) en un espacio de embeddings mediante técnicas como t-SNE o PCA."
   ]
  },
  {
   "cell_type": "markdown",
   "id": "d87bcf0f",
   "metadata": {},
   "source": [
    "Desafíos de la correlación\n",
    "Sesgo en los datos:"
   ]
  },
  {
   "cell_type": "markdown",
   "id": "fba099d9",
   "metadata": {},
   "source": [
    "Correlaciones aparentes pueden ser artefactos del conjunto de datos, no propiedades reales (e.g., género correlacionado con fondo o iluminación).\n",
    "Correlaciones espurias:"
   ]
  },
  {
   "cell_type": "markdown",
   "id": "a38ae229",
   "metadata": {},
   "source": [
    "Factores no relacionados (como el fondo de la imagen) pueden influir en la predicción.\n",
    "Multicolinealidad:"
   ]
  },
  {
   "cell_type": "markdown",
   "id": "4e422f9a",
   "metadata": {},
   "source": [
    "Algunas variables independientes pueden estar altamente correlacionadas entre sí, afectando la interpretación del modelo."
   ]
  },
  {
   "cell_type": "code",
   "execution_count": null,
   "id": "c6f09ede",
   "metadata": {},
   "outputs": [],
   "source": [
    "#_________________________________________________________________________________________________________________________________________________________\n",
    "#¿Cómo se distribuyen los datos en función de diferentes categorías? (análisis bivariado)\n",
    "# Aun no tenemos los datos entrenados pero el scrip propuesto seria de esta forma\n",
    "import numpy as np\n",
    "import pandas as pd\n",
    "import seaborn as sns\n",
    "import matplotlib.pyplot as plt\n",
    "from sklearn.decomposition import PCA"
   ]
  },
  {
   "cell_type": "code",
   "execution_count": null,
   "id": "631fcdb3",
   "metadata": {},
   "outputs": [],
   "source": [
    "# Simulación de un conjunto de datos\n",
    "np.random.seed(42)\n",
    "num_imagenes = 100"
   ]
  },
  {
   "cell_type": "code",
   "execution_count": null,
   "id": "d5ff344b",
   "metadata": {},
   "outputs": [],
   "source": [
    "# Simulamos características extraídas de las imágenes (por ejemplo, PCA)\n",
    "caracteristicas = np.random.rand(num_imagenes, 5)  # 5 características extraídas"
   ]
  },
  {
   "cell_type": "code",
   "execution_count": null,
   "id": "e4cd489b",
   "metadata": {},
   "outputs": [],
   "source": [
    "# Simulamos etiquetas de clase (identidades de las personas)\n",
    "etiquetas = np.random.choice(['persona_1', 'persona_2', 'persona_3'], size=num_imagenes)"
   ]
  },
  {
   "cell_type": "code",
   "execution_count": null,
   "id": "778ff376",
   "metadata": {},
   "outputs": [],
   "source": [
    "# Crear un DataFrame\n",
    "df = pd.DataFrame(caracteristicas, columns=[f'caracteristica_{i+1}' for i in range(5)])\n",
    "df['etiqueta'] = etiquetas"
   ]
  },
  {
   "cell_type": "code",
   "execution_count": null,
   "id": "29122fdf",
   "metadata": {},
   "outputs": [],
   "source": [
    "# 1. Análisis bivariado usando un Diagrama de Cajas (Boxplot) para observar la distribución de características por etiqueta\n",
    "plt.figure(figsize=(12, 6))\n",
    "sns.boxplot(x='etiqueta', y='caracteristica_1', data=df)  # Comparar 'caracteristica_1' entre diferentes personas\n",
    "plt.title('Distribución de Característica 1 por Etiqueta')\n",
    "plt.show()"
   ]
  },
  {
   "cell_type": "code",
   "execution_count": null,
   "id": "e5d9dfa9",
   "metadata": {},
   "outputs": [],
   "source": [
    "# 2. Análisis bivariado usando un Histograma Apilado (Stacked Histogram)\n",
    "plt.figure(figsize=(12, 6))\n",
    "sns.histplot(data=df, x='caracteristica_1', hue='etiqueta', multiple='stack', kde=True)\n",
    "plt.title('Distribución Apilada de Característica 1 por Etiqueta')\n",
    "plt.show()"
   ]
  },
  {
   "cell_type": "code",
   "execution_count": null,
   "id": "b17f5e38",
   "metadata": {},
   "outputs": [],
   "source": [
    "# 3. Análisis bivariado usando un Pairplot para explorar la relación entre múltiples características y las etiquetas\n",
    "sns.pairplot(df, hue='etiqueta', vars=['caracteristica_1', 'caracteristica_2', 'caracteristica_3'])\n",
    "plt.suptitle('Pairplot de Características por Etiqueta', y=1.02)\n",
    "plt.show()"
   ]
  },
  {
   "cell_type": "markdown",
   "id": "753674fe",
   "metadata": {},
   "source": [
    "El análisis bivariado en visión por computadora implica examinar cómo se distribuyen los datos entre diferentes categorías y cómo interactúan dos variables \n",
    "específicas, como una variable dependiente (etiquetas) y una independiente (características o condiciones externas). Este análisis ayuda a identificar patrones, \n",
    "sesgos o relaciones significativas. Aquí te detallo cómo abordar el análisis bivariado en este contexto:"
   ]
  },
  {
   "cell_type": "markdown",
   "id": "ed81104a",
   "metadata": {},
   "source": [
    "1. Análisis por pares de variables comunes\n",
    "a) Identidad y Expresión Facial\n",
    "Ejemplo: Distribución de expresiones (felicidad, tristeza, enojo) en función de las identidades.\n",
    "Gráficos sugeridos:\n",
    "Diagramas de barras apiladas: Muestran la proporción de cada expresión por identidad.\n",
    "Heatmaps: Muestran frecuencias para combinaciones de identidad y expresión.\n",
    "b) Edad y Género\n",
    "Ejemplo: Distribución de edades separadas por género.\n",
    "Gráficos sugeridos:\n",
    "Histogramas por grupos: Comparar la distribución de edades para cada género.\n",
    "Boxplots: Evaluar diferencias en la dispersión de edades entre géneros.\n",
    "c) Pose y Expresión Facial\n",
    "Ejemplo: ¿Hay poses específicas asociadas con ciertas expresiones (e.g., cabeza inclinada al sonreír)?\n",
    "Gráficos sugeridos:\n",
    "Gráficos de dispersión (pose en el eje x, expresión como color o símbolo).\n",
    "Diagramas de violín: Muestran la densidad de poses asociadas con expresiones.\n",
    "d) Accesorios y Edad/Género\n",
    "Ejemplo: Distribución de accesorios (como gafas) en función de género o edad.\n",
    "Gráficos sugeridos:\n",
    "Diagramas de barras agrupadas: Comparar la frecuencia de uso de gafas entre diferentes grupos.\n",
    "2. Métodos para analizar la relación entre variables\n",
    "Tablas de contingencia:"
   ]
  },
  {
   "cell_type": "markdown",
   "id": "65c1fcd9",
   "metadata": {},
   "source": [
    "Evaluar frecuencias absolutas y relativas entre categorías de dos variables.\n",
    "Ejemplo: Número de rostros masculinos y femeninos con cada expresión facial.\n",
    "Coeficientes de correlación:"
   ]
  },
  {
   "cell_type": "markdown",
   "id": "419309aa",
   "metadata": {},
   "source": [
    "Pearson, Spearman, o Chi-cuadrado para medir relaciones entre variables continuas (edad, pose) y categóricas (género, expresión).\n",
    "Test de independencia:"
   ]
  },
  {
   "cell_type": "markdown",
   "id": "76792fa0",
   "metadata": {},
   "source": [
    "Usar pruebas estadísticas como el test Chi-cuadrado para evaluar si las categorías son independientes.\n",
    "Ejemplo: ¿La distribución de género es independiente de las expresiones?\n",
    "3. Identificación de sesgos y patrones\n",
    "El análisis bivariado puede revelar sesgos importantes en los datos:"
   ]
  },
  {
   "cell_type": "markdown",
   "id": "568b47a0",
   "metadata": {},
   "source": [
    "Género y clase mayoritaria:\n",
    "Algunas expresiones (como enojo) pueden estar sobrerrepresentadas en un género.\n",
    "Edad y accesorios:\n",
    "Las gafas pueden ser más frecuentes en rangos de edad más altos.\n",
    "Etnicidad y expresión:\n",
    "Sesgos hacia ciertas combinaciones (e.g., rostros caucásicos felices).\n",
    "4. Gráficos sugeridos\n",
    "Heatmaps:\n",
    "Visualizar frecuencias absolutas o relativas en una cuadrícula de dos variables categóricas.\n",
    "Scatterplots con variables continuas:\n",
    "Ejemplo: Dispersión entre pose y edad.\n",
    "Boxplots y diagramas de violín:\n",
    "Evaluar distribución y dispersión de una variable continua entre diferentes categorías.\n",
    "Gráficos apilados o de barras:\n",
    "Comparar proporciones entre categorías.\n",
    "Ejemplo práctico\n",
    "Supongamos que tienes un conjunto de datos con:"
   ]
  },
  {
   "cell_type": "markdown",
   "id": "37a049c3",
   "metadata": {},
   "source": [
    "Género (Masculino/Femenino).\n",
    "Expresión facial (Happiness, Sadness, Anger).\n",
    "Edad (numérica).\n",
    "Paso 1: Tablas de contingencia\n",
    "Crear una tabla para mostrar la frecuencia de cada combinación de género y expresión."
   ]
  },
  {
   "cell_type": "markdown",
   "id": "b55ebb32",
   "metadata": {},
   "source": [
    "Género\tHappiness\tSadness\tAnger\n",
    "Masculino\t500\t200\t150\n",
    "Femenino\t600\t250\t100\n",
    "Paso 2: Gráficos de dispersión\n",
    "Visualizar la relación entre la edad y la intensidad de felicidad en un gráfico de dispersión."
   ]
  },
  {
   "cell_type": "markdown",
   "id": "d38b63e9",
   "metadata": {
    "lines_to_next_cell": 2
   },
   "source": [
    "Paso 3: Estadísticas de asociación\n",
    "Calcular correlaciones entre variables, como la intensidad de felicidad y la pose."
   ]
  },
  {
   "cell_type": "markdown",
   "id": "fb73a2ac",
   "metadata": {},
   "source": [
    "_________________________________________________________________________________________________________________________________________________________\n",
    "¿Se deberían normalizar las imágenes para visualizarlas mejor?\n",
    "Para este proyecto no puesto que se pretende usar la misma camara en las mismas condiciones de luz para generar toda la base de datos necesaria\n",
    "Ademas con el scrip propuesto al inicio es suficiente con el recorte de 150 x 150 pixeles"
   ]
  },
  {
   "cell_type": "markdown",
   "id": "ed880115",
   "metadata": {},
   "source": [
    "_________________________________________________________________________________________________________________________________________________________\n",
    "¿Hay desequilibrio en las clases de la variable objetivo?\n",
    "\n",
    "El desequilibrio en las clases de la variable objetivo es un problema común en el análisis de rostros con visión por computadora. Esto ocurre cuando las \n",
    "clases no están distribuidas uniformemente, lo que puede sesgar los modelos hacia las clases mayoritarias y reducir el rendimiento en las minoritarias.\n",
    "\n",
    "Los datos con los que se trabaja son bastante homogeneos y no necesitamos hacer ajustes"
   ]
  },
  {
   "cell_type": "code",
   "execution_count": null,
   "id": "8d02db1b",
   "metadata": {},
   "outputs": [],
   "source": []
  },
  {
   "cell_type": "code",
   "execution_count": null,
   "id": "33142003",
   "metadata": {},
   "outputs": [],
   "source": []
  }
 ],
 "metadata": {
  "jupytext": {
   "cell_metadata_filter": "-all",
   "main_language": "python",
   "notebook_metadata_filter": "-all"
  }
 },
 "nbformat": 4,
 "nbformat_minor": 5
}
